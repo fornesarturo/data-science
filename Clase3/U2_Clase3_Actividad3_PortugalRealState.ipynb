{
 "cells": [
  {
   "cell_type": "markdown",
   "metadata": {
    "colab_type": "text",
    "id": "6mEGUK7rYoRC"
   },
   "source": [
    "\n",
    "### Guidelines\n",
    "I strongly advise you to carefully read this assignment, think about approaches and try to understand the data before diving into the questions. \n",
    "\n",
    "* **You can complete this assignment working on this Google Colab if you wish"
   ]
  },
  {
   "cell_type": "code",
   "execution_count": 0,
   "metadata": {
    "colab": {},
    "colab_type": "code",
    "id": "wn82o9okMFJR"
   },
   "outputs": [],
   "source": [
    "from google.colab import files\n",
    "\n",
    "uploaded = files.upload()"
   ]
  },
  {
   "cell_type": "markdown",
   "metadata": {},
   "source": [
    "# Details"
   ]
  },
  {
   "cell_type": "markdown",
   "metadata": {
    "colab_type": "text",
    "id": "YwNzVMIwadT-"
   },
   "source": [
    "\n",
    "### You have the following information in your files\n",
    "- \"agents.csv\" and\n",
    "- \"properties.csv\"\n",
    "\n",
    "\n",
    "- PROPERTIES table: \n",
    "  - **id**(PK, INT) - unique identification number of the property ad listing\n",
    "  - **title**(VARCHAR) - title of the property ad listing\n",
    "  - **features**(VARCHAR) - field with additional characteristics of the property ad listing\n",
    "  - **living_area**(FLOAT) - living area of the property in square meters\n",
    "  - **total_area**(FLOAT)- total area of the property in square meters\n",
    "   - **plot_area**(FLOAT) - plot area of the property in square meters\n",
    "  - **price**(FLOAT) - selling price of the property in euros\n",
    "  - **agent_id**(INT) - selling agent id\n",
    "  - **createdAt**(DATE) - date in which the property was added to the market\n",
    "- AGENTS table: \n",
    "  - **agent_id**(PK, INT) - selling agent id\n",
    "  - **company**(VARCHAR) - company for which the agent works\n",
    "\n",
    "#### Details of properties:\n",
    "- **locations** can be: Alenquer, Quinta da Marinha, Golden Mile, Nagüeles;\n",
    "- **types** can be: ‘apartment’, ‘penthouse’, ‘duplex’, ‘house’, ‘villa’, ‘country estate’,\n",
    "‘moradia', ‘quinta', ‘plot’, ‘land’; \n",
    "- the property types can be part of the following **property groups**:\n",
    "  1. group **‘apartments’** includes types ‘apartment’, ‘penthouse’, ‘duplex’;\n",
    "  2. group **‘‘houses’**‘ includes types ‘house’, ‘villa’, ‘country estate’, ‘moradia', ‘quinta’;\n",
    "  3. group **‘‘plots’**‘ includes types ’plot’, ‘land’.\n",
    "- areas:\n",
    " - for the group **‘plots’** use **plot_area**;\n",
    " - for groups **‘apartments’** and **‘houses’** use the highest value between **total_area** or **living_area**;\n",
    "\n"
   ]
  },
  {
   "cell_type": "markdown",
   "metadata": {
    "colab_type": "text",
    "id": "_b76pb1YYc5B"
   },
   "source": [
    "**challenge**\n",
    "- (Q6) Write a code to identify companies (agents) with most expensive properties for each month in 2017\n",
    "- (Q7) Write a code to get first and last property posted by each company (agents)"
   ]
  },
  {
   "cell_type": "markdown",
   "metadata": {
    "colab_type": "text",
    "id": "D6n6ZF7VahF3"
   },
   "source": [
    "# Data Analysis (Python)\n",
    "\n",
    " For this part, feel free to use as many cells as you need below this point. Please use properties.csv as your data source. \n",
    "\n",
    "\n",
    "\n",
    "## Problem \n",
    "A private investor is planning an investment in one of the four locations. In order to decide where to invest he needs to know the price impact of such features as ‘pool’, ‘sea view’ and ‘garage’ on properties in each location.\n",
    "He also asks for the mean price of the properties in each type group (‘apartments’, ‘houses’, ‘plots’) and wants to know about properties in the market that are undervalued and overvalued. In order to accomplish the problem that was described we want you to cover the following steps:\n",
    "\n",
    "#### Part 1: Data Cleaning\n",
    "As you have seen previously, a lot of information is present in the title/features fields. From there, we want to extract the relevant information for further analysis, such as:\n",
    " - 1A: Property  **type** (as presented in **Details** above, of each property from **title** field\n",
    " - 1B: Property **location** (as presented in **Details** above, of each property from ** title** field\n",
    " - 1C: From ** features** field, if a property has:\n",
    "  - a pool\n",
    "  - a garage\n",
    "  - sea view\n",
    "\n",
    "#### Expected Outcome for Part 1:\n",
    "- Create a property dataset with the following schema and save it in a csv file:\n",
    "  - id; \n",
    "  - location name\n",
    "  - type\n",
    "  - title\n",
    "  - features\n",
    "  - pool (0/1)\n",
    "  - sea view (0/1)\n",
    "  - garage (0/1)\n",
    "- Pool, sea view and garage should be binary:1 if the property has the feature and 0 if not\n",
    "- For each of the 3 tasks (1A, 1B, 1C), describe in detail the what you did.\n",
    "-  Please provide your code in the cells below, in a reproducible and understandable way;"
   ]
  },
  {
   "cell_type": "code",
   "execution_count": 0,
   "metadata": {
    "colab": {},
    "colab_type": "code",
    "id": "SEbVdIgUv0Qk"
   },
   "outputs": [],
   "source": []
  },
  {
   "cell_type": "markdown",
   "metadata": {
    "colab_type": "text",
    "id": "WS_0w3NAXTZc"
   },
   "source": [
    "#### Part 2: Identify outliers\n",
    "Now that the data is structured correctly, let's look at which properties are a  good deal for our investor. For this you will need to** identify undervalued, overvalued, and normal properties** in the dataset. Remember that a  undervalued house in one location can be considered a high outlier in another location. Location and type classifications are important in this task.\n",
    "#### Expected Outcome for Part 2:\n",
    "- As before, deliver a csv file with the following format:\n",
    "  - id\n",
    "  - location name\n",
    "  - type\n",
    "  - area\n",
    "  - price\n",
    "  - over-valued (0/1)\n",
    "  - under-valued (0/1)\n",
    "  - normal (0/1)\n",
    "- the new columns should be binary, where for example **over-valued** column would get value 1 if the property is indeed over-valued, 0 otherwise;\n",
    "- A short report (could be a pdf file or new cells within the notebook) containing:\n",
    "  - visualizations (such as scatter plots) discriminating between the undervalued, overvalued and normal properties.\n",
    "  - a explanation of what is the difference between under-valued/over-valued properties and pure data outliers;\n",
    "  - any notes/conclusions you wish to add;\n",
    "- Provide your code in a reproducible way in the cells below;"
   ]
  },
  {
   "cell_type": "markdown",
   "metadata": {
    "colab_type": "text",
    "id": "_m0oYlVUXWqI"
   },
   "source": [
    "#### Part 3: Theoretical questions\n",
    "\n",
    "- Describe in detail how you would evaluate the price impact of features such as sea view, pool and garage considering the dataset provided. Your answer should also include how would you deal with missing values, outliers and duplicated listings (same property listing published by different agencies);\n"
   ]
  },
  {
   "cell_type": "markdown",
   "metadata": {
    "colab": {},
    "colab_type": "code",
    "id": "pRh5IOYBvzic"
   },
   "source": [
    "#### Part 4: Create a model to estimate the price of the properties based on the features you consider. You can use linear, polynomial, multivariate or tree regressors. "
   ]
  },
  {
   "cell_type": "code",
   "execution_count": null,
   "metadata": {},
   "outputs": [],
   "source": []
  },
  {
   "cell_type": "markdown",
   "metadata": {
    "colab_type": "text",
    "id": "WEJZaN7uXaJ4"
   },
   "source": [
    "#### Extra challenge 5:\n",
    "- Describe how would you model the data over time (using createdAt field). What changes over time would you look for and what would you expect the outcomes to be? (i.e. in terms of pricing per location/type)"
   ]
  },
  {
   "cell_type": "code",
   "execution_count": 0,
   "metadata": {
    "colab": {},
    "colab_type": "code",
    "id": "H63ckTpFr-5_"
   },
   "outputs": [],
   "source": []
  }
 ],
 "metadata": {
  "colab": {
   "collapsed_sections": [],
   "name": "Armando Cuevas_CasafariTest_ProductDataScientist.ipynb",
   "provenance": [],
   "toc_visible": true,
   "version": "0.3.2"
  },
  "kernelspec": {
   "display_name": "Python 3",
   "language": "python",
   "name": "python3"
  },
  "language_info": {
   "codemirror_mode": {
    "name": "ipython",
    "version": 3
   },
   "file_extension": ".py",
   "mimetype": "text/x-python",
   "name": "python",
   "nbconvert_exporter": "python",
   "pygments_lexer": "ipython3",
   "version": "3.7.2"
  }
 },
 "nbformat": 4,
 "nbformat_minor": 1
}
