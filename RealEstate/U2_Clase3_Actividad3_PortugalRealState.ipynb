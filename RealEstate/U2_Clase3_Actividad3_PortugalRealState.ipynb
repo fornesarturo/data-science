{
 "cells": [
  {
   "cell_type": "markdown",
   "metadata": {},
   "source": [
    "Arturo Fornes (A01227071)\n",
    "\n",
    "Gerardo Juarez (A00226860)\n",
    "\n",
    "Miguel Montoya (A01226045)\n",
    "\n",
    "David Arana (A01630076)"
   ]
  },
  {
   "cell_type": "code",
   "execution_count": 1,
   "metadata": {},
   "outputs": [],
   "source": [
    "import pandas as pd\n",
    "import numpy as np\n",
    "import seaborn as sns\n",
    "import matplotlib.pyplot as plt"
   ]
  },
  {
   "cell_type": "markdown",
   "metadata": {},
   "source": [
    "# Details"
   ]
  },
  {
   "cell_type": "markdown",
   "metadata": {
    "colab_type": "text",
    "id": "YwNzVMIwadT-"
   },
   "source": [
    "\n",
    "### You have the following information in your files\n",
    "- \"agents.csv\" and\n",
    "- \"properties.csv\"\n",
    "\n",
    "\n",
    "- PROPERTIES table: \n",
    "  - **id**(PK, INT) - unique identification number of the property ad listing\n",
    "  - **title**(VARCHAR) - title of the property ad listing\n",
    "  - **features**(VARCHAR) - field with additional characteristics of the property ad listing\n",
    "  - **living_area**(FLOAT) - living area of the property in square meters\n",
    "  - **total_area**(FLOAT)- total area of the property in square meters\n",
    "   - **plot_area**(FLOAT) - plot area of the property in square meters\n",
    "  - **price**(FLOAT) - selling price of the property in euros\n",
    "  - **agent_id**(INT) - selling agent id\n",
    "  - **createdAt**(DATE) - date in which the property was added to the market\n",
    "- AGENTS table: \n",
    "  - **agent_id**(PK, INT) - selling agent id\n",
    "  - **company**(VARCHAR) - company for which the agent works\n",
    "\n",
    "#### Details of properties:\n",
    "- **locations** can be: Alenquer, Quinta da Marinha, Golden Mile, Nagüeles;\n",
    "- **types** can be: ‘apartment’, ‘penthouse’, ‘duplex’, ‘house’, ‘villa’, ‘country estate’,\n",
    "‘moradia', ‘quinta', ‘plot’, ‘land’; \n",
    "- the property types can be part of the following **property groups**:\n",
    "  1. group **‘apartments’** includes types ‘apartment’, ‘penthouse’, ‘duplex’;\n",
    "  2. group **‘‘houses’**‘ includes types ‘house’, ‘villa’, ‘country estate’, ‘moradia', ‘quinta’;\n",
    "  3. group **‘‘plots’**‘ includes types ’plot’, ‘land’.\n",
    "- areas:\n",
    " - for the group **‘plots’** use **plot_area**;\n",
    " - for groups **‘apartments’** and **‘houses’** use the highest value between **total_area** or **living_area**;\n",
    "\n"
   ]
  },
  {
   "cell_type": "markdown",
   "metadata": {
    "colab_type": "text",
    "id": "_b76pb1YYc5B"
   },
   "source": [
    "**challenge**\n",
    "- (Q6) Write a code to identify companies (agents) with most expensive properties for each month in 2017\n",
    "- (Q7) Write a code to get first and last property posted by each company (agents)"
   ]
  },
  {
   "cell_type": "markdown",
   "metadata": {
    "colab_type": "text",
    "id": "D6n6ZF7VahF3"
   },
   "source": [
    "# Data Analysis (Python)\n",
    "\n",
    " For this part, feel free to use as many cells as you need below this point. Please use properties.csv as your data source. \n",
    "\n",
    "\n",
    "\n",
    "## Problem \n",
    "A private investor is planning an investment in one of the four locations. In order to decide where to invest he needs to know the price impact of such features as ‘pool’, ‘sea view’ and ‘garage’ on properties in each location.\n",
    "He also asks for the mean price of the properties in each type group (‘apartments’, ‘houses’, ‘plots’) and wants to know about properties in the market that are undervalued and overvalued. In order to accomplish the problem that was described we want you to cover the following steps:\n",
    "\n",
    "#### Part 1: Data Cleaning\n",
    "As you have seen previously, a lot of information is present in the title/features fields. From there, we want to extract the relevant information for further analysis, such as:\n",
    " - 1A: Property  **type** (as presented in **Details** above, of each property from **title** field\n",
    " - 1B: Property **location** (as presented in **Details** above, of each property from ** title** field\n",
    " - 1C: From ** features** field, if a property has:\n",
    "  - a pool\n",
    "  - a garage\n",
    "  - sea view\n",
    "\n",
    "#### Expected Outcome for Part 1:\n",
    "- Create a property dataset with the following schema and save it in a csv file:\n",
    "  - id; \n",
    "  - location name\n",
    "  - type\n",
    "  - title\n",
    "  - features\n",
    "  - pool (0/1)\n",
    "  - sea view (0/1)\n",
    "  - garage (0/1)\n",
    "- Pool, sea view and garage should be binary:1 if the property has the feature and 0 if not\n",
    "- For each of the 3 tasks (1A, 1B, 1C), describe in detail the what you did.\n",
    "-  Please provide your code in the cells below, in a reproducible and understandable way;"
   ]
  },
  {
   "cell_type": "code",
   "execution_count": 2,
   "metadata": {
    "colab": {},
    "colab_type": "code",
    "id": "SEbVdIgUv0Qk",
    "scrolled": false
   },
   "outputs": [],
   "source": [
    "locations = [\"Alenquer\", \"Quinta da Marinha\", \"Golden Mile\", \"Nagüeles\", \"Nagueles\"]\n",
    "types = {\"apartment\":\"apartments\", \"penthouse\":\"apartments\", \"duplex\":\"apartments\",\n",
    "         \"residence\":\"houses\", \"house\":\"houses\", \"villa\":\"houses\", \"country estate\":\"houses\", \"estate\":\"houses\", \"moradia\":\"houses\", \"quinta\":\"houses\",\n",
    "         \"plot\":\"plots\", \"land\":\"plots\"}\n",
    "\n",
    "agents = pd.read_csv(\"agents.csv\")\n",
    "properties = pd.read_csv(\"properties.csv\")\n",
    "\n",
    "def funcLoc(title):\n",
    "    for loc in locations:\n",
    "        if loc.lower() in title.lower():\n",
    "            if loc == \"Nagueles\":\n",
    "                    return \"Nagüeles\"\n",
    "            return loc\n",
    "\n",
    "    \n",
    "def funcTypes(title):\n",
    "    for typ in types:\n",
    "        if typ.lower() in title.lower():\n",
    "            return types[typ]    \n",
    "        \n",
    "def funcPool(feature):\n",
    "    if type(feature) != type(\"\"):\n",
    "        return 0\n",
    "    elif \"pool\" in feature.lower():\n",
    "        return 1\n",
    "    return 0\n",
    "\n",
    "def funcSea(feature):\n",
    "    if type(feature) != type(\"\"):\n",
    "        return 0\n",
    "    elif \"sea view\" in feature.lower():\n",
    "        return 1\n",
    "    return 0\n",
    "\n",
    "def funcGarage(feature):\n",
    "    if type(feature) != type(\"\"):\n",
    "        return 0\n",
    "    elif \"garage\" in feature.lower():\n",
    "        return 1\n",
    "    return 0\n",
    "        \n",
    "properties[\"location\"] = properties[\"title\"].map(funcLoc)\n",
    "properties[\"type\"] = properties[\"title\"].map(funcTypes)\n",
    "properties[\"pool\"] = properties[\"features\"].map(funcPool)\n",
    "properties[\"sea_view\"] = properties[\"features\"].map(funcSea)\n",
    "properties[\"garage\"] = properties[\"features\"].map(funcGarage)\n",
    "\n",
    "properties.to_csv(\"great_properties.csv\")"
   ]
  },
  {
   "cell_type": "markdown",
   "metadata": {
    "colab_type": "text",
    "id": "WS_0w3NAXTZc"
   },
   "source": [
    "#### Part 2: Identify outliers\n",
    "Now that the data is structured correctly, let's look at which properties are a  good deal for our investor. For this you will need to** identify undervalued, overvalued, and normal properties** in the dataset. Remember that a  undervalued house in one location can be considered a high outlier in another location. Location and type classifications are important in this task.\n",
    "#### Expected Outcome for Part 2:\n",
    "- As before, deliver a csv file with the following format:\n",
    "  - id\n",
    "  - location name\n",
    "  - type\n",
    "  - area\n",
    "  - price\n",
    "  - over-valued (0/1)\n",
    "  - under-valued (0/1)\n",
    "  - normal (0/1)\n",
    "- the new columns should be binary, where for example **over-valued** column would get value 1 if the property is indeed over-valued, 0 otherwise;\n",
    "- A short report (could be a pdf file or new cells within the notebook) containing:\n",
    "  - visualizations (such as scatter plots) discriminating between the undervalued, overvalued and normal properties.\n",
    "  - a explanation of what is the difference between under-valued/over-valued properties and pure data outliers;\n",
    "  - any notes/conclusions you wish to add;\n",
    "- Provide your code in a reproducible way in the cells below;"
   ]
  },
  {
   "cell_type": "code",
   "execution_count": 3,
   "metadata": {},
   "outputs": [
    {
     "name": "stdout",
     "output_type": "stream",
     "text": [
      "location           type      \n",
      "Alenquer           apartments      61500.0\n",
      "                   houses          79000.0\n",
      "                   plots           65500.0\n",
      "Golden Mile        apartments     310000.0\n",
      "                   houses         450000.0\n",
      "                   plots          550000.0\n",
      "Nagüeles           apartments     265000.0\n",
      "                   houses         465000.0\n",
      "                   plots          968750.0\n",
      "Quinta da Marinha  apartments     995000.0\n",
      "                   houses        1000000.0\n",
      "Name: price, dtype: float64\n",
      "location           type      \n",
      "Alenquer           apartments      93600.0\n",
      "                   houses         260000.0\n",
      "                   plots          197450.0\n",
      "Golden Mile        apartments     900000.0\n",
      "                   houses        2461000.0\n",
      "                   plots         3640000.0\n",
      "Nagüeles           apartments     475000.0\n",
      "                   houses        1550000.0\n",
      "                   plots         4200000.0\n",
      "Quinta da Marinha  apartments    1481232.0\n",
      "                   houses        3137938.0\n",
      "Name: price, dtype: float64\n"
     ]
    }
   ],
   "source": [
    "properties[\"area\"] = [row[\"plot_area\"] if row[\"type\"] == \"plots\" else max(0 if np.isnan(row[\"living_area\"]) else row[\"living_area\"], 0 if np.isnan(row[\"total_area\"]) else row[\"total_area\"]) for i, row in properties.iterrows()]\n",
    "\n",
    "print(properties.groupby(['location', 'type'])['price'].quantile(0.25))\n",
    "print(properties.groupby(['location', 'type'])['price'].quantile(0.75))\n"
   ]
  },
  {
   "cell_type": "code",
   "execution_count": 4,
   "metadata": {},
   "outputs": [],
   "source": [
    "q1_dict = {\n",
    "    'Alenquer': {'apartments': 61500, 'houses': 79000, 'plots': 65500},\n",
    "    'Golden Mile': {'apartments': 310000, 'houses': 450000, 'plots': 550000},\n",
    "    'Nagüeles': {'apartments': 265000, 'houses': 465000, 'plots':968750},\n",
    "    'Quinta da Marinha': {'apartments': 995000, 'houses': 1000000}\n",
    "}\n",
    "q3_dict = {\n",
    "    'Alenquer': {'apartments': 93600, 'houses': 260000, 'plots': 197450},\n",
    "    'Golden Mile': {'apartments': 900000, 'houses': 2461000, 'plots': 3640000},\n",
    "    'Nagüeles': {'apartments': 475000, 'houses': 1550000, 'plots': 4200000},\n",
    "    'Quinta da Marinha': {'apartments': 1481232, 'houses': 3137938}\n",
    "}\n",
    "\n",
    "# inner out = q1 - 1.5*IQ\n",
    "# outer out = q3 + 1.5+IQ\n",
    "properties[\"over-valued\"] = [1 if row[\"price\"] >= q3_dict[row.location][row.type] + 1.5 * (q3_dict[row.location][row.type] - q1_dict[row.location][row.type]) \n",
    "                             else 0\n",
    "                             for i, row in properties.iterrows()]\n",
    "properties[\"under-valued\"] = [1 if row[\"price\"] <= q1_dict[row.location][row.type] - 1.5 * (q3_dict[row.location][row.type] - q1_dict[row.location][row.type]) \n",
    "                             else 0\n",
    "                             for i, row in properties.iterrows()]\n",
    "properties[\"normal\"] = [0 if row[\"over-valued\"] == 1 or row[\"under-valued\"] == 1 \n",
    "                        else 1 for i, row in properties.iterrows()]"
   ]
  },
  {
   "cell_type": "code",
   "execution_count": 5,
   "metadata": {},
   "outputs": [],
   "source": [
    "properties.to_csv(\"price_properties.csv\")"
   ]
  },
  {
   "cell_type": "code",
   "execution_count": 6,
   "metadata": {},
   "outputs": [
    {
     "data": {
      "text/plain": [
       "<matplotlib.axes._subplots.AxesSubplot at 0x1a22936ac8>"
      ]
     },
     "execution_count": 6,
     "metadata": {},
     "output_type": "execute_result"
    },
    {
     "data": {
      "image/png": "[encoded data removed]",
      "text/plain": [
       "<Figure size 1080x360 with 3 Axes>"
      ]
     },
     "metadata": {
      "needs_background": "light"
     },
     "output_type": "display_data"
    }
   ],
   "source": [
    "fig = plt.figure(figsize=(15,5))\n",
    "ax1 = fig.add_subplot(131)\n",
    "ax2 = fig.add_subplot(132)\n",
    "ax3 = fig.add_subplot(133)\n",
    "\n",
    "sns.countplot(properties['normal'], ax = ax1)\n",
    "sns.countplot(properties['over-valued'], ax = ax2)\n",
    "sns.countplot(properties['under-valued'], ax = ax3)\n"
   ]
  },
  {
   "cell_type": "code",
   "execution_count": 7,
   "metadata": {},
   "outputs": [
    {
     "data": {
      "text/plain": [
       "<matplotlib.axes._subplots.AxesSubplot at 0x1a229eba20>"
      ]
     },
     "execution_count": 7,
     "metadata": {},
     "output_type": "execute_result"
    },
    {
     "data": {
      "image/png": "[encoded data removed]",
      "text/plain": [
       "<Figure size 1080x360 with 3 Axes>"
      ]
     },
     "metadata": {
      "needs_background": "light"
     },
     "output_type": "display_data"
    }
   ],
   "source": [
    "fig = plt.figure(figsize=(15,5))\n",
    "ax1 = fig.add_subplot(131)\n",
    "ax2 = fig.add_subplot(132)\n",
    "ax3 = fig.add_subplot(133)\n",
    "\n",
    "sns.countplot(properties[properties.type=='houses']['normal'], ax = ax1)\n",
    "sns.countplot(properties[properties.type=='houses']['over-valued'], ax = ax2)\n",
    "sns.countplot(properties[properties.type=='houses']['under-valued'], ax = ax3)\n"
   ]
  },
  {
   "cell_type": "code",
   "execution_count": 8,
   "metadata": {},
   "outputs": [
    {
     "name": "stderr",
     "output_type": "stream",
     "text": [
      "/Users/fornesarturo/anaconda3/envs/ds/lib/python3.7/site-packages/seaborn/axisgrid.py:715: UserWarning: Using the countplot function without specifying `order` is likely to produce an incorrect plot.\n",
      "  warnings.warn(warning)\n"
     ]
    },
    {
     "data": {
      "text/plain": [
       "<seaborn.axisgrid.FacetGrid at 0x1a22dd35c0>"
      ]
     },
     "execution_count": 8,
     "metadata": {},
     "output_type": "execute_result"
    },
    {
     "data": {
      "image/png": "[encoded data removed]",
      "text/plain": [
       "<Figure size 864x648 with 12 Axes>"
      ]
     },
     "metadata": {
      "needs_background": "light"
     },
     "output_type": "display_data"
    }
   ],
   "source": [
    "g = sns.FacetGrid(properties, row='type', col='location')\n",
    "g.map(sns.countplot, 'normal')"
   ]
  },
  {
   "cell_type": "code",
   "execution_count": 9,
   "metadata": {},
   "outputs": [
    {
     "name": "stderr",
     "output_type": "stream",
     "text": [
      "/Users/fornesarturo/anaconda3/envs/ds/lib/python3.7/site-packages/seaborn/axisgrid.py:715: UserWarning: Using the countplot function without specifying `order` is likely to produce an incorrect plot.\n",
      "  warnings.warn(warning)\n"
     ]
    },
    {
     "data": {
      "text/plain": [
       "<seaborn.axisgrid.FacetGrid at 0x1a22ed42e8>"
      ]
     },
     "execution_count": 9,
     "metadata": {},
     "output_type": "execute_result"
    },
    {
     "data": {
      "image/png": "[encoded data removed]",
      "text/plain": [
       "<Figure size 864x648 with 12 Axes>"
      ]
     },
     "metadata": {
      "needs_background": "light"
     },
     "output_type": "display_data"
    }
   ],
   "source": [
    "g = sns.FacetGrid(properties, row='type', col='location')\n",
    "g.map(sns.countplot, 'over-valued')"
   ]
  },
  {
   "cell_type": "code",
   "execution_count": 10,
   "metadata": {},
   "outputs": [
    {
     "name": "stderr",
     "output_type": "stream",
     "text": [
      "/Users/fornesarturo/anaconda3/envs/ds/lib/python3.7/site-packages/seaborn/axisgrid.py:715: UserWarning: Using the countplot function without specifying `order` is likely to produce an incorrect plot.\n",
      "  warnings.warn(warning)\n"
     ]
    },
    {
     "data": {
      "text/plain": [
       "<seaborn.axisgrid.FacetGrid at 0x1a23af70b8>"
      ]
     },
     "execution_count": 10,
     "metadata": {},
     "output_type": "execute_result"
    },
    {
     "data": {
      "image/png": "[encoded data removed]",
      "text/plain": [
       "<Figure size 864x648 with 12 Axes>"
      ]
     },
     "metadata": {
      "needs_background": "light"
     },
     "output_type": "display_data"
    }
   ],
   "source": [
    "g = sns.FacetGrid(properties, row='type', col='location')\n",
    "g.map(sns.countplot, 'under-valued')"
   ]
  },
  {
   "cell_type": "markdown",
   "metadata": {
    "colab_type": "text",
    "id": "_m0oYlVUXWqI"
   },
   "source": [
    "#### Part 3: Theoretical questions\n",
    "\n",
    "- Describe in detail how you would evaluate the price impact of features such as sea view, pool and garage considering the dataset provided. Your answer should also include how would you deal with missing values, outliers and duplicated listings (same property listing published by different agencies);\n"
   ]
  },
  {
   "cell_type": "markdown",
   "metadata": {},
   "source": [
    "Con la matriz de correlación, se podría realizar un prefiltrado de los datos según los outliers que te gustaría evitar y quitar los valores vacíos y ya sobre ese dataset filtrado hacer la matriz de correlación. \n",
    "\n",
    "Para las entradas duplicadas se nos ocurren dos: en una se tendría que manejar eso desde antes, igual con un prefiltrado, sería buscar que la descripción textual y los atributos que separamos sean, lo primero muy parecido, y lo segundo idéntico; la otra es hacer cualquier análisis de correlación por agencia, para evitar inflar los resultados con las repeticiones."
   ]
  },
  {
   "cell_type": "markdown",
   "metadata": {
    "colab": {},
    "colab_type": "code",
    "id": "pRh5IOYBvzic"
   },
   "source": [
    "#### Part 4: Create a model to estimate the price of the properties based on the features you consider. You can use linear, polynomial, multivariate or tree regressors. "
   ]
  },
  {
   "cell_type": "code",
   "execution_count": 11,
   "metadata": {},
   "outputs": [
    {
     "data": {
      "text/plain": [
       "LinearRegression(copy_X=True, fit_intercept=True, n_jobs=None,\n",
       "         normalize=False)"
      ]
     },
     "execution_count": 11,
     "metadata": {},
     "output_type": "execute_result"
    }
   ],
   "source": [
    "from sklearn.model_selection import train_test_split\n",
    "from sklearn.linear_model import LinearRegression\n",
    "from sklearn.metrics import mean_squared_error, r2_score, mean_absolute_error\n",
    "from sklearn.preprocessing import PolynomialFeatures\n",
    "\n",
    "y = properties[\"price\"]\n",
    "X = properties[[\"pool\", \"sea_view\", \"garage\", \"area\"]]\n",
    "\n",
    "\n",
    "polynomial_feat = PolynomialFeatures(4)\n",
    "x_poly = polynomial_feat.fit_transform(X)\n",
    "\n",
    "\n",
    "x_train, x_test, y_train, y_test = train_test_split(x_poly, y, test_size=0.2, random_state=0)\n",
    "\n",
    "\n",
    "regression = LinearRegression()\n",
    "regression.fit(x_train, y_train)"
   ]
  },
  {
   "cell_type": "code",
   "execution_count": 12,
   "metadata": {},
   "outputs": [
    {
     "name": "stdout",
     "output_type": "stream",
     "text": [
      "Mean absolute error: 1189884.15\n",
      "Mean squared error: 4680108198393.74\n",
      "Variance score: -0.02\n"
     ]
    }
   ],
   "source": [
    "print(\"Mean absolute error: %.2f\"% mean_absolute_error(y_test, regression.predict(x_test)))\n",
    "print(\"Mean squared error: %.2f\"% mean_squared_error(y_test, regression.predict(x_test)))\n",
    "print('Variance score: %.2f' % r2_score(y_test, regression.predict(x_test)))"
   ]
  },
  {
   "cell_type": "code",
   "execution_count": 17,
   "metadata": {
    "colab": {},
    "colab_type": "code",
    "id": "H63ckTpFr-5_"
   },
   "outputs": [
    {
     "name": "stderr",
     "output_type": "stream",
     "text": [
      "/Users/fornesarturo/anaconda3/envs/ds/lib/python3.7/site-packages/sklearn/svm/base.py:196: FutureWarning: The default value of gamma will change from 'auto' to 'scale' in version 0.22 to account better for unscaled features. Set gamma explicitly to 'auto' or 'scale' to avoid this warning.\n",
      "  \"avoid this warning.\", FutureWarning)\n"
     ]
    },
    {
     "data": {
      "text/plain": [
       "SVR(C=1.0, cache_size=200, coef0=0.0, degree=3, epsilon=0.1,\n",
       "  gamma='auto_deprecated', kernel='rbf', max_iter=-1, shrinking=True,\n",
       "  tol=0.001, verbose=False)"
      ]
     },
     "execution_count": 17,
     "metadata": {},
     "output_type": "execute_result"
    }
   ],
   "source": [
    "from sklearn.svm import SVR\n",
    "\n",
    "svr_regressor = SVR()\n",
    "svr_regressor.fit(x_train, y_train)"
   ]
  },
  {
   "cell_type": "code",
   "execution_count": 18,
   "metadata": {},
   "outputs": [
    {
     "data": {
      "text/plain": [
       "array([547015.        , 547013.        , 547013.        , 547015.        ,\n",
       "       547014.        , 547010.        , 546996.        , 547095.8477596 ,\n",
       "       547016.        , 547014.        , 547014.        , 547003.        ,\n",
       "       547013.        , 547016.        , 547011.        , 547013.        ,\n",
       "       547012.        , 547015.        , 547015.        , 547018.        ,\n",
       "       547014.        , 547017.        , 547011.        , 547005.        ,\n",
       "       547095.8477596 , 547095.8477596 , 547017.        , 547015.        ,\n",
       "       547018.        , 547015.        , 547005.        , 547095.8477596 ,\n",
       "       547014.        , 547014.        , 547028.        , 547012.        ,\n",
       "       547095.8477596 , 547013.        , 547011.        , 547014.        ,\n",
       "       547016.        , 547014.        , 547007.        , 547005.        ,\n",
       "       547025.        , 547014.        , 547008.        , 547026.        ,\n",
       "       547017.        , 547019.        , 547014.        , 547013.        ,\n",
       "       547012.        , 547015.        , 547013.        , 547014.        ,\n",
       "       547090.34426873, 547014.        , 547014.        , 547011.        ,\n",
       "       547015.        , 547020.        , 547014.        , 547019.        ,\n",
       "       547011.        , 547015.        , 547012.        , 547079.77434093,\n",
       "       547016.        , 547015.        , 547014.        , 547014.        ,\n",
       "       547095.8477596 , 547007.        , 547010.        , 547018.        ,\n",
       "       547014.        , 547033.        , 547015.        , 547017.        ,\n",
       "       546994.        , 547010.        , 547019.        , 547025.        ,\n",
       "       547024.        , 547003.        , 546996.        , 547031.        ,\n",
       "       547016.        , 547017.        , 547013.        , 547007.        ,\n",
       "       547018.        , 547079.77434093, 547015.        , 547014.        ,\n",
       "       547015.        , 547095.8477596 , 547016.        , 547013.        ,\n",
       "       547014.        , 547095.8477596 , 547017.        , 547095.8477596 ,\n",
       "       547017.        , 547013.        , 547011.        , 547019.        ,\n",
       "       547014.        , 547014.        , 547014.        , 546996.        ,\n",
       "       547007.        , 547014.        , 547012.        , 547095.8477596 ,\n",
       "       547017.        , 547005.        , 547015.        , 547014.        ,\n",
       "       547012.        , 547014.        , 547018.        , 547016.        ,\n",
       "       546999.        , 547014.        , 547090.63950599, 547019.        ,\n",
       "       547014.        , 547003.        , 547007.        , 547007.        ,\n",
       "       547006.        , 547013.        , 547013.        , 547007.        ,\n",
       "       547016.        , 547017.        , 547079.77434093, 547014.        ,\n",
       "       547014.        , 547043.        , 547014.        , 547043.        ,\n",
       "       547095.8477596 , 547021.        , 547001.        , 546996.        ,\n",
       "       547014.        , 547025.        , 546998.        , 547012.        ,\n",
       "       547015.        , 547014.        , 547013.        , 547010.        ,\n",
       "       547017.        , 547021.        , 547014.        , 547014.        ,\n",
       "       547015.        , 547013.        , 546999.        , 547012.        ,\n",
       "       547014.        , 547014.        , 547016.        , 547015.        ,\n",
       "       547010.        , 547015.        , 547021.        , 547010.        ,\n",
       "       547013.        , 547014.        , 547013.        , 547014.        ,\n",
       "       547095.8477596 , 547016.        , 547003.        , 547014.        ,\n",
       "       547013.        , 547002.        , 547011.        , 547014.        ,\n",
       "       547013.        , 547079.77434093, 547016.        , 547016.        ,\n",
       "       547006.        , 547013.        , 547016.        , 547012.        ,\n",
       "       547017.        , 547017.        , 547023.        , 547031.        ,\n",
       "       547016.        , 547014.        , 547001.        , 547015.        ,\n",
       "       546994.        , 547000.        , 547004.        , 547014.        ,\n",
       "       547010.        , 547016.        , 547033.        , 547015.        ,\n",
       "       547043.        , 547095.8477596 , 547014.        , 547011.        ,\n",
       "       547014.        , 547095.8477596 , 547013.        , 547016.        ,\n",
       "       547012.        , 547013.        , 547013.        , 547013.        ,\n",
       "       547014.        , 547014.        , 547003.        , 547016.        ,\n",
       "       547013.        , 547014.        , 547007.        , 547095.8477596 ,\n",
       "       547010.        , 547035.        , 547095.8477596 , 547014.        ,\n",
       "       547016.        , 547007.        , 547013.        , 547014.        ,\n",
       "       547011.        , 547014.        , 547016.        , 547015.        ,\n",
       "       547017.        , 547014.        , 547012.        , 547001.        ,\n",
       "       547079.77434093, 547014.        , 547002.        , 547014.        ,\n",
       "       547011.        , 547013.        , 547025.        , 547020.        ,\n",
       "       547013.        , 547013.        , 547013.        , 547014.        ,\n",
       "       547024.        , 547013.        , 547014.        , 547009.        ,\n",
       "       547023.        , 546995.        , 547015.        , 547019.        ,\n",
       "       547016.        , 547013.        , 547016.        , 547015.        ,\n",
       "       547012.        , 547015.        , 547015.        , 547014.        ,\n",
       "       547014.        , 547003.        , 547028.        , 547014.        ,\n",
       "       547014.        , 547014.        , 546996.        , 547013.        ,\n",
       "       547013.        , 547011.        , 547013.        , 547014.        ,\n",
       "       547016.        , 547013.        , 547014.        , 547021.        ,\n",
       "       547026.        , 547018.        , 547016.        , 547013.        ,\n",
       "       547007.        , 547020.        , 547015.        , 547021.        ,\n",
       "       547014.        , 547024.        , 547014.        , 547035.        ,\n",
       "       547010.        , 547014.        , 547014.        , 547014.        ,\n",
       "       547095.8477596 , 547020.        , 547016.        , 547028.        ,\n",
       "       547079.9649744 , 547015.        , 547007.        , 546996.        ,\n",
       "       547010.        , 547014.        , 547014.        , 546995.        ,\n",
       "       547014.        , 547014.        , 547015.        , 547016.        ,\n",
       "       547014.        , 547014.        , 547003.        , 547014.        ,\n",
       "       547008.        , 547017.        , 547014.        , 547015.        ,\n",
       "       547018.        , 547014.        , 547014.        , 547016.        ,\n",
       "       547014.        , 547011.        , 547013.        , 547018.        ,\n",
       "       547013.        , 547095.8477596 , 547043.        , 546996.        ,\n",
       "       547012.        , 547095.8477596 , 547016.        , 547043.        ,\n",
       "       547014.        , 547015.        , 547014.        , 547079.77434093,\n",
       "       547014.        , 547013.        , 547014.        , 547013.        ,\n",
       "       547014.        , 547017.        , 547016.        , 547018.        ,\n",
       "       547014.        , 547014.        , 547015.        , 547013.        ,\n",
       "       547015.        , 547016.        , 547063.2654656 , 547014.        ,\n",
       "       547013.        , 546984.        , 546994.        , 547014.        ,\n",
       "       547095.8477596 , 547095.8477596 , 547014.        , 547014.        ,\n",
       "       547020.        , 547031.        , 547035.        , 547095.8477596 ,\n",
       "       547013.        , 547012.        , 547010.        , 546996.        ,\n",
       "       547016.        , 547017.        , 547015.        , 547015.        ,\n",
       "       547011.        , 547019.        , 547018.        , 547016.        ,\n",
       "       547014.        , 547090.34426873, 547018.        , 547012.        ,\n",
       "       547016.        , 547021.        , 547007.        , 547016.        ,\n",
       "       547011.        , 547014.        , 547005.        , 547095.8477596 ,\n",
       "       547003.        , 547095.8477596 , 547017.        , 547012.        ,\n",
       "       547035.        , 547005.        , 547007.        , 547011.        ,\n",
       "       547005.        , 547014.        , 546996.        , 547011.        ,\n",
       "       547016.        , 547017.        , 547004.        , 547009.        ,\n",
       "       547003.        , 547016.        , 547019.        , 547014.        ,\n",
       "       547022.        , 547007.        , 547019.        , 547014.        ,\n",
       "       547012.        , 547022.        , 547024.        , 547014.        ,\n",
       "       547035.        , 547014.        , 547013.        , 547014.        ,\n",
       "       547014.        , 547014.        , 547026.        , 547022.        ,\n",
       "       547015.        , 547017.        , 546984.        , 547028.        ,\n",
       "       547017.        , 547025.        , 547079.77434093, 547014.        ,\n",
       "       547003.        , 547019.        , 547095.8477596 , 547014.        ,\n",
       "       547013.        , 547024.        , 547095.8477596 , 547014.        ,\n",
       "       547015.        , 547016.        , 547016.        , 547016.        ,\n",
       "       547012.        , 547014.        , 547022.        , 547016.        ,\n",
       "       547014.        , 547014.        , 547014.        , 547016.        ,\n",
       "       547007.        , 547011.        , 547013.        , 547017.        ,\n",
       "       547014.        , 547020.        , 547014.        , 547013.        ,\n",
       "       547016.        , 547020.        , 547012.        , 547011.        ,\n",
       "       547005.        , 547007.        , 546984.        , 547015.        ,\n",
       "       547014.        , 547015.        , 547012.        , 547018.        ,\n",
       "       547015.        , 547015.        , 547095.8477596 , 547014.        ,\n",
       "       547018.        , 547013.        , 547017.        , 547014.        ,\n",
       "       547011.        , 547014.        , 547017.        , 547014.        ,\n",
       "       547043.        , 547014.        , 547019.        , 547012.        ,\n",
       "       546996.        , 547014.        , 547013.        , 547016.        ,\n",
       "       547014.        , 547095.8477596 , 547015.        , 547003.        ,\n",
       "       547015.        , 547014.        , 547013.        , 547003.        ,\n",
       "       547015.        , 547015.        , 547019.        , 547043.        ,\n",
       "       547016.        , 547013.        , 547000.        , 547015.        ,\n",
       "       547095.8477596 , 547013.        , 547020.        , 547016.        ,\n",
       "       547003.        , 547033.        , 547014.        , 547014.        ,\n",
       "       547011.        , 547013.        , 547014.        , 547015.        ,\n",
       "       547019.        , 547028.        , 547005.        , 547095.8477596 ,\n",
       "       547008.        , 547005.        , 547095.8477596 , 547011.        ,\n",
       "       547020.        , 547016.        , 547004.        , 547010.        ,\n",
       "       547006.        , 547013.        , 547033.        , 547020.        ,\n",
       "       547013.        , 547017.        , 547008.        , 547079.77434093,\n",
       "       547079.77434093, 547014.        , 547010.        , 547031.        ,\n",
       "       547015.        , 546996.        , 547008.        , 547013.        ,\n",
       "       547017.        , 547014.        , 547009.        , 547014.        ,\n",
       "       547017.        , 547015.        , 547014.        , 547022.        ,\n",
       "       547013.        , 547095.8477596 , 547033.        , 547019.        ,\n",
       "       547015.        , 547014.        , 547013.        , 547033.        ,\n",
       "       547012.        , 547014.        , 547003.        , 547095.8477596 ,\n",
       "       547020.        , 547011.        , 547007.        , 547022.        ,\n",
       "       547015.        , 547007.        , 547079.9649744 , 547014.        ,\n",
       "       547016.        , 547014.        , 547015.        , 547014.        ,\n",
       "       547035.        , 547017.        , 547014.        , 547013.        ,\n",
       "       547012.        , 547014.        , 547010.        , 547016.        ,\n",
       "       547014.        , 547013.        , 547014.        , 547015.        ,\n",
       "       547012.        , 547016.        , 547012.        , 547031.        ,\n",
       "       547016.        , 547014.        , 547013.        , 547021.        ,\n",
       "       547014.        , 547012.        , 547012.        , 547016.        ,\n",
       "       547017.        , 547013.        , 547079.77434093, 547012.        ,\n",
       "       547028.        , 547017.        , 547013.        , 547028.        ,\n",
       "       547079.77434093, 547011.        , 547012.        , 547025.        ,\n",
       "       547004.        , 547019.        , 547014.        , 546999.        ,\n",
       "       546996.        , 547004.        , 547006.        , 547014.        ,\n",
       "       547020.        , 547014.        , 547033.        , 547003.        ,\n",
       "       547012.        , 547014.        , 547026.        , 547016.        ,\n",
       "       547014.        , 547014.        , 547014.        , 547015.        ,\n",
       "       547014.        , 547016.        , 547014.        , 547014.        ,\n",
       "       547018.        , 547017.        , 547014.        , 547022.        ,\n",
       "       547011.        , 547011.        , 547014.        , 547095.8477596 ,\n",
       "       547015.        , 547015.        , 547014.        , 547017.        ,\n",
       "       547012.        , 547014.        , 547009.        , 547026.        ,\n",
       "       547012.        , 547095.8477596 , 547014.        , 547013.        ,\n",
       "       547011.        , 547023.        , 547019.        , 547013.        ,\n",
       "       546996.        , 547012.        , 547022.        , 547016.        ,\n",
       "       547079.9649744 , 547022.        , 547013.        , 547010.        ,\n",
       "       547005.        , 547014.        , 547014.        , 547014.        ,\n",
       "       547013.        , 547007.        , 547014.        , 547014.        ,\n",
       "       547043.        , 547013.        , 547095.8477596 , 547017.        ,\n",
       "       547012.        , 547019.        , 547015.        , 547011.        ,\n",
       "       547017.        , 547095.8477596 , 547018.        , 547014.        ,\n",
       "       547018.        , 547016.        , 547004.        , 547014.        ,\n",
       "       547016.        , 547015.        , 547016.        , 547013.        ,\n",
       "       546996.        , 547020.        , 547010.        , 547014.        ,\n",
       "       547014.        , 547016.        , 547014.        , 547010.        ,\n",
       "       547016.        , 547014.        , 547011.        , 546996.        ,\n",
       "       547020.        , 547095.8477596 , 547017.        , 547003.        ,\n",
       "       547019.        , 547018.        , 547018.        , 547014.        ,\n",
       "       547079.77434093, 547012.        , 547005.        , 547017.        ,\n",
       "       547015.        , 547014.        , 547014.        , 547014.        ,\n",
       "       547095.8477596 , 547017.        , 547014.        , 547011.        ,\n",
       "       547010.        , 547013.        , 547011.        , 547016.        ,\n",
       "       547021.        , 547005.        , 547014.        , 547009.        ,\n",
       "       547025.        , 547007.        , 547095.8477596 , 547019.        ,\n",
       "       547014.        , 547015.        , 547018.        , 547015.        ,\n",
       "       547019.        , 547035.        , 547023.        , 547008.        ,\n",
       "       547014.        , 547014.        , 547014.        , 547007.        ,\n",
       "       547007.        , 547079.77434093, 547026.        , 547014.        ,\n",
       "       547014.        , 547009.        , 547007.        , 547014.        ,\n",
       "       547095.8477596 , 547003.        , 547079.77434093, 546994.        ,\n",
       "       547005.        , 547005.        , 547016.        , 547095.8477596 ,\n",
       "       547015.        , 547010.        , 547006.        , 547013.        ,\n",
       "       547017.        , 547015.        , 547003.        , 547021.        ,\n",
       "       547016.        , 547095.8477596 , 547014.        , 547015.        ,\n",
       "       547011.        , 547095.8477596 , 547022.        , 547020.        ,\n",
       "       547018.        , 547014.        , 547003.        , 546996.        ,\n",
       "       547014.        , 547095.8477596 , 547016.        , 547013.        ,\n",
       "       547095.8477596 , 547012.        , 547004.        , 547014.        ,\n",
       "       547016.        , 547007.        , 547015.        , 547004.        ,\n",
       "       547015.        , 547016.        , 547012.        , 547014.        ,\n",
       "       547024.        , 547013.        , 547014.        , 547014.        ,\n",
       "       547010.        , 547014.        , 547016.        , 547008.        ,\n",
       "       547014.        , 546998.        , 547021.        , 547013.        ,\n",
       "       547016.        , 547035.        , 547003.        , 547004.        ,\n",
       "       547026.        , 547024.        , 547014.        , 547015.        ,\n",
       "       547012.        , 547079.77434093, 547024.        , 547010.        ,\n",
       "       547015.        , 547014.        , 547014.        , 547010.        ,\n",
       "       547012.        , 547090.63950599, 547003.        , 547012.        ,\n",
       "       547014.        , 547035.        , 547015.        , 547095.8477596 ,\n",
       "       547014.        , 547019.        , 547014.        , 547017.        ,\n",
       "       547016.        , 547015.        , 547015.        , 547095.8477596 ,\n",
       "       547033.        , 547015.        , 547095.8477596 , 547012.        ,\n",
       "       547015.        , 547019.        , 547014.        , 547015.        ,\n",
       "       547016.        , 547015.        , 547015.        , 547015.        ,\n",
       "       547028.        , 547014.        , 546984.        , 547014.        ,\n",
       "       547014.        , 547001.        , 547014.        , 547020.        ,\n",
       "       547023.        , 547035.        , 547020.        , 546998.        ,\n",
       "       547015.        , 547015.        , 547095.8477596 , 547002.        ,\n",
       "       547019.        , 547015.        , 547014.        , 547014.        ,\n",
       "       547014.        , 547002.        , 547023.        , 547016.        ,\n",
       "       547028.        , 547014.        , 547095.8477596 , 547013.        ,\n",
       "       547014.        , 547014.        , 547013.        , 547014.        ,\n",
       "       547013.        , 547018.        , 547095.8477596 , 547079.77434093,\n",
       "       547014.        , 547079.9649744 , 547022.        , 547014.        ,\n",
       "       547016.        , 547014.        , 547018.        , 547020.        ,\n",
       "       547012.        , 547011.        , 547013.        , 547016.        ,\n",
       "       547013.        , 547015.        , 546996.        , 547014.        ,\n",
       "       547010.        , 547016.        , 547015.        , 546998.        ,\n",
       "       547014.        , 547014.        , 547013.        , 547035.        ,\n",
       "       547018.        , 547016.        , 547011.        , 547014.        ,\n",
       "       546998.        , 547017.        , 547013.        , 547014.        ,\n",
       "       547014.        , 547079.77434093, 547013.        , 547012.        ,\n",
       "       547012.        , 547012.        , 547013.        , 547017.        ,\n",
       "       547014.        , 547012.        , 547006.        , 546984.        ,\n",
       "       547016.        , 547010.        , 547095.8477596 , 547014.        ,\n",
       "       547013.        , 547013.        , 547019.        , 547011.        ,\n",
       "       547008.        , 547079.77434093, 547014.        , 547012.        ,\n",
       "       547014.        , 547035.        , 547095.8477596 , 547013.        ,\n",
       "       547012.        , 547014.        , 547043.        , 547017.        ,\n",
       "       547010.        , 547014.        , 547016.        , 547024.        ,\n",
       "       547016.        , 547016.        ])"
      ]
     },
     "execution_count": 18,
     "metadata": {},
     "output_type": "execute_result"
    }
   ],
   "source": [
    "svr_y_predicted = svr_regressor.predict(x_test)\n",
    "svr_y_predicted"
   ]
  },
  {
   "cell_type": "code",
   "execution_count": 19,
   "metadata": {},
   "outputs": [
    {
     "name": "stdout",
     "output_type": "stream",
     "text": [
      "Mean absolute error: 1070050.38\n",
      "Mean squared error: 5261838540157.18\n",
      "Variance score: -0.14\n"
     ]
    }
   ],
   "source": [
    "print(\"Mean absolute error: %.2f\"% mean_absolute_error(y_test, svr_y_predicted))\n",
    "print(\"Mean squared error: %.2f\"% mean_squared_error(y_test, svr_y_predicted))\n",
    "print('Variance score: %.2f' % r2_score(y_test, svr_y_predicted))"
   ]
  },
  {
   "cell_type": "code",
   "execution_count": 20,
   "metadata": {},
   "outputs": [],
   "source": [
    "from sklearn.ensemble import RandomForestRegressor\n",
    "\n",
    "rforest_regressor = RandomForestRegressor(n_estimators=10)"
   ]
  },
  {
   "cell_type": "code",
   "execution_count": 21,
   "metadata": {},
   "outputs": [
    {
     "data": {
      "text/plain": [
       "RandomForestRegressor(bootstrap=True, criterion='mse', max_depth=None,\n",
       "           max_features='auto', max_leaf_nodes=None,\n",
       "           min_impurity_decrease=0.0, min_impurity_split=None,\n",
       "           min_samples_leaf=1, min_samples_split=2,\n",
       "           min_weight_fraction_leaf=0.0, n_estimators=10, n_jobs=None,\n",
       "           oob_score=False, random_state=None, verbose=0, warm_start=False)"
      ]
     },
     "execution_count": 21,
     "metadata": {},
     "output_type": "execute_result"
    }
   ],
   "source": [
    "rforest_regressor.fit(x_train, y_train)"
   ]
  },
  {
   "cell_type": "code",
   "execution_count": 23,
   "metadata": {},
   "outputs": [
    {
     "data": {
      "text/plain": [
       "array([ 1475000.        ,   195388.72100122,   592347.67857143,\n",
       "        5280000.        ,    86700.        ,   505347.09055944,\n",
       "         354911.40420714,  2372911.32905248,  7592000.        ,\n",
       "        6340000.        ,   562700.        ,   542672.04352901,\n",
       "         903000.        ,  1423682.44949495,   220000.        ,\n",
       "         763427.47916667,   395871.41428571,  1808771.42857143,\n",
       "        3780000.        ,  3202687.25718726,   250942.56715507,\n",
       "        5500000.        ,   165737.5       ,   176846.68803419,\n",
       "        2372911.32905248,  2372911.32905248,  1298877.38095238,\n",
       "        2410000.        ,  2414626.98412698,   810056.82539683,\n",
       "         176846.68803419,  2372911.32905248,   393000.        ,\n",
       "        2397987.63736264,   861434.41790371,   356800.        ,\n",
       "        2372911.32905248,   424750.        ,   455000.        ,\n",
       "         652500.        ,  1735500.        ,  1400719.04761905,\n",
       "         273080.        ,   176846.68803419,  1706313.56837607,\n",
       "         136286.81818182,   131418.88888889,   586842.98831071,\n",
       "        2688250.        ,   726789.97113997,   198404.97294372,\n",
       "         519479.25146113,   369550.        ,  1347342.85714286,\n",
       "        1253975.42735043,   598700.        ,   708084.30971446,\n",
       "        3116684.52380952,   232000.        ,   484500.        ,\n",
       "        1921500.        ,  1782993.25396825,  1555461.47081534,\n",
       "        1225219.81848224,   517187.5       ,  7020000.        ,\n",
       "          94891.66666667,  1419586.80554344,  2507226.66666667,\n",
       "        2269727.2       ,   598700.        ,   409833.33333333,\n",
       "        2372911.32905248,   273080.        ,   395000.        ,\n",
       "        1761816.66666667,  1195666.66666667,  1163661.18925831,\n",
       "        2092500.        ,   892502.73809524,   240302.97876463,\n",
       "         424601.46825397,  1282044.87179487,  1831969.46386946,\n",
       "        1017825.38156288,   542672.04352901,   460906.71310171,\n",
       "        1743791.3960114 ,   622171.19047619,  3000000.        ,\n",
       "         809560.71428571,   369770.38003663,  2752214.28571429,\n",
       "        1419586.80554344,  3200000.        ,  1413800.        ,\n",
       "         579261.9047619 ,  2372911.32905248,   568740.47619048,\n",
       "         195388.72100122,  1903322.51082251,  2372911.32905248,\n",
       "        3000000.        ,  2372911.32905248,  2903500.        ,\n",
       "         495000.        ,   775573.38494838,  1282044.87179487,\n",
       "         832218.        ,   249000.        ,   467050.        ,\n",
       "         221930.30165014,   421340.41260013,  3767250.        ,\n",
       "         446897.52380952,  2372911.32905248,  1100000.        ,\n",
       "         250475.98845599,  1050000.        ,   505626.98412698,\n",
       "         571433.33333333,   423083.33333333,  1254291.66666667,\n",
       "         781624.92063492,   526745.67418484,   840500.        ,\n",
       "         939312.42742552,  1282044.87179487,  2207900.        ,\n",
       "         321100.08484163,   544834.04078241,   438925.55555556,\n",
       "         198404.97294372,   409750.        ,   148744.28571429,\n",
       "         219081.62698413,  4730000.        ,  1100000.        ,\n",
       "        1419586.80554344,  2275000.        ,  1225219.81848224,\n",
       "        1694426.2931216 ,  4050000.        ,  1694426.2931216 ,\n",
       "        2372911.32905248,  2548820.97069597,   312923.18802521,\n",
       "         460906.71310171,   581700.        ,  1831969.46386946,\n",
       "         405893.35785062,   423058.33333333, 10750000.        ,\n",
       "         475666.66666667,   515450.        ,   348413.33333333,\n",
       "         876567.05322129,  2548820.97069597,   829550.        ,\n",
       "         470500.        ,  1820000.        ,   351446.66666667,\n",
       "         341736.99705523,   375411.09126984,  2535500.        ,\n",
       "        1712500.        ,   622171.19047619,  2770000.        ,\n",
       "         369880.        ,  1672000.        ,   706370.23532024,\n",
       "         483254.76190476,   351446.66666667,   403348.80952381,\n",
       "         275000.        ,  6703750.        ,  2372911.32905248,\n",
       "        4723000.        ,   321100.08484163,   354475.        ,\n",
       "         398535.95238095,   100940.18525334,   586355.00541126,\n",
       "        1537733.01282051,   462937.5       ,  1419586.80554344,\n",
       "        2791666.66666667,   652000.        ,   139531.90909091,\n",
       "         148744.28571429,   739000.        ,   124233.33333333,\n",
       "        5775000.        ,   892502.73809524,  1590962.05877456,\n",
       "        1743791.3960114 ,  2206166.66666667,  3144000.        ,\n",
       "         312923.18802521,  3780000.        ,   240302.97876463,\n",
       "         466260.62486533,   275314.10561661,  1225219.81848224,\n",
       "         231782.32142857,  1735500.        ,  1163661.18925831,\n",
       "        1251333.33333333,  1694426.2931216 ,  2372911.32905248,\n",
       "         537341.66666667,    78900.83333333,  1126150.        ,\n",
       "        2372911.32905248,   276366.66666667,  2611413.33333333,\n",
       "         211998.69791667,   340816.66666667,  3144000.        ,\n",
       "         519479.25146113,  3333190.        ,  2171499.28333333,\n",
       "         542672.04352901,   803333.33333333,   148744.28571429,\n",
       "         798666.66666667,   544834.04078241,  2372911.32905248,\n",
       "         412228.88888889,  1399148.33786075,  2372911.32905248,\n",
       "        1296000.        ,  1680273.80952381,   421340.41260013,\n",
       "         336713.63636364,   902500.        ,   153379.16666667,\n",
       "        6820000.        ,   781624.92063492,  3729400.        ,\n",
       "        1901666.66666667,  8144500.        ,   375411.09126984,\n",
       "         312923.18802521,  1419586.80554344,  1071175.        ,\n",
       "         100940.18525334,   746648.80952381,   133855.        ,\n",
       "         581497.22222222,  1831969.46386946,   650178.11993218,\n",
       "        1253975.42735043,   356240.        ,   266000.        ,\n",
       "        3536190.47619048,  1198205.70488722,   106600.        ,\n",
       "        1080000.        ,   304677.77777778,  1362480.76923077,\n",
       "         301540.33002467,  2477278.57142857,   726789.97113997,\n",
       "        4500000.        ,   217214.48412698,  1423682.44949495,\n",
       "        1845000.        ,   458533.33333333,  1350000.        ,\n",
       "        3482727.2       ,  1188707.34265734,   598700.        ,\n",
       "         321100.08484163,  2593773.62637363,  1820101.01010101,\n",
       "        1385600.        ,   502964.28571429,   460906.71310171,\n",
       "         424750.        ,   356240.        ,   300104.16666667,\n",
       "          79320.        ,  4092392.85714286,  2631700.        ,\n",
       "         763427.47916667,  1537733.01282051,   996380.3030303 ,\n",
       "         586842.98831071,  1432194.19372294,  3515000.        ,\n",
       "         581497.22222222,   156914.01515152,  5780638.65995116,\n",
       "        1409630.76923077,   706370.23532024,  1903322.51082251,\n",
       "        1198205.70488722,  1467025.        ,  1399148.33786075,\n",
       "         412228.88888889,   236466.66666667,  3173000.        ,\n",
       "         467050.        ,  2372911.32905248,  1782993.25396825,\n",
       "        1423682.44949495,   861434.41790371,   704707.85714286,\n",
       "        2541700.        ,   369770.38003663,   460906.71310171,\n",
       "         430202.53318903,  3095000.        ,   787166.66666667,\n",
       "         301540.33002467,  1557416.66666667,   319125.        ,\n",
       "        4644000.        ,  1100000.        ,  3835000.        ,\n",
       "        1670000.        ,   358741.82900433,  5876040.2       ,\n",
       "         455389.46886447,  2950000.        ,   348104.16666667,\n",
       "        1375000.        ,  1931295.23809524,  4800000.        ,\n",
       "        1725500.        ,  2252083.33333333,   507098.33333333,\n",
       "         346430.86686508,   466238.0952381 ,  1799540.47619048,\n",
       "         720101.01010101,  2372911.32905248,  1694426.2931216 ,\n",
       "         221930.30165014,   461833.33333333,  2372911.32905248,\n",
       "         671992.54658577,  1694426.2931216 ,   759948.26839827,\n",
       "         902337.5       ,  8144500.        ,  1419586.80554344,\n",
       "        1712666.66666667,    86500.        ,   492708.33333333,\n",
       "         720101.01010101,  1369530.39528168,   858196.62975913,\n",
       "         622171.19047619,  1931295.23809524,  3168000.        ,\n",
       "        1514000.        ,   674300.        ,   106600.        ,\n",
       "         879455.35714286,   781624.92063492,  1371171.01189265,\n",
       "       10900000.        ,   592347.67857143,   209015.87815957,\n",
       "         240302.97876463,   542750.        ,  2372911.32905248,\n",
       "        2372911.32905248,   651070.77922078,  1973098.50931677,\n",
       "        1668885.71428571,  1743791.3960114 ,   570629.98847926,\n",
       "        2372911.32905248,   519479.25146113,  1043651.17296919,\n",
       "         369880.        ,   170233.33201058,  3772829.93333333,\n",
       "         707345.27777778,  1577773.26839827,  4644000.        ,\n",
       "         383508.33333333,  2673041.66666667,  1246407.34126984,\n",
       "         848000.        ,   787243.59352142,   708084.30971446,\n",
       "        1336547.97979798,  1043651.17296919,  1100000.        ,\n",
       "        1555461.47081534,   544834.04078241,  1423682.44949495,\n",
       "         354475.        ,  2238880.95238095,   329889.13568376,\n",
       "        2372911.32905248,   542672.04352901,  2372911.32905248,\n",
       "        2147488.0952381 ,   211998.69791667,  1399148.33786075,\n",
       "         176846.68803419,   544834.04078241,   354475.        ,\n",
       "         430288.07886558,  1271395.66666667,   221930.30165014,\n",
       "         775573.38494838,   873200.        ,  2950000.        ,\n",
       "         275314.10561661,   207418.05555556,   274844.76468254,\n",
       "         671992.54658577,  1225219.81848224,  2363435.71428571,\n",
       "        2424042.20779221,   369770.38003663,  1282044.87179487,\n",
       "        1365500.        ,   470000.        ,  1649420.23809524,\n",
       "        1017825.38156288,   502964.28571429,  1399148.33786075,\n",
       "        1766200.        ,    83150.        ,   369770.38003663,\n",
       "         781500.        ,   368000.        ,   586842.98831071,\n",
       "         765000.        ,  1577773.26839827,   549125.        ,\n",
       "         209015.87815957,   861434.41790371,  5500000.        ,\n",
       "        1706313.56837607,  1419586.80554344,  1071175.        ,\n",
       "         542672.04352901,  1225219.81848224,  2372911.32905248,\n",
       "         221930.30165014,   433210.        ,  1017825.38156288,\n",
       "        2372911.32905248,   444991.66666667,  1610000.        ,\n",
       "        3772829.93333333,  1150000.        ,   568740.47619048,\n",
       "         460837.33333333,   785133.33333333,   765000.        ,\n",
       "        5217500.        ,   559600.        ,  4322500.        ,\n",
       "         622171.19047619,   790833.33333333,   369770.38003663,\n",
       "          65595.35714286,   227371.42857143,   668773.80952381,\n",
       "         489025.        ,   650178.11993218,  2315130.95238095,\n",
       "         660400.        ,   739000.        ,  1668885.71428571,\n",
       "         478111.3452381 ,   346430.86686508,   176846.68803419,\n",
       "         544834.04078241,   209015.87815957,  1050000.        ,\n",
       "         900500.        ,   822988.0952381 ,   211998.69791667,\n",
       "        2414626.98412698,  1150000.        ,  1475000.        ,\n",
       "        2372911.32905248,   495000.        ,  1599708.33333333,\n",
       "         651070.77922078,  1984000.        ,  1546629.8       ,\n",
       "         300000.        ,    78975.47619048,  1475080.35714286,\n",
       "         177445.23809524,  1694426.2931216 ,  1365460.        ,\n",
       "        4000000.        ,   512606.66666667,   460906.71310171,\n",
       "         683500.        ,   266000.        ,  4950000.        ,\n",
       "        2965000.        ,  2372911.32905248,   881527.5       ,\n",
       "         542672.04352901,  3675990.        ,   578000.        ,\n",
       "         809560.71428571,   321100.08484163,   703944.44444444,\n",
       "         879455.35714286,  1225219.81848224,  1694426.2931216 ,\n",
       "        1100000.        ,    83150.        ,   466260.62486533,\n",
       "        1142833.33333333,  2372911.32905248,   356240.        ,\n",
       "        1957300.        ,  1065385.60606061,   542672.04352901,\n",
       "        1163661.18925831,  2340488.0952381 ,  1432194.19372294,\n",
       "         255791.66666667,   165812.5       ,  3435500.        ,\n",
       "        1561776.19047619,   662772.61904762,   861434.41790371,\n",
       "         329889.13568376,  2372911.32905248,   455389.46886447,\n",
       "         430288.07886558,  2372911.32905248,   300104.16666667,\n",
       "         650178.11993218,  2673083.33333333,   275314.10561661,\n",
       "         430202.53318903,   139531.90909091,   292218.64801865,\n",
       "        1163661.18925831,  3203835.7997558 ,   320045.83333333,\n",
       "        4819875.        ,   277303.33333333,  1419586.80554344,\n",
       "        1419586.80554344,  4218385.        ,   231782.32142857,\n",
       "        1743791.3960114 ,   946233.33333333,   460906.71310171,\n",
       "         455389.46886447,   531659.16666667,   668773.80952381,\n",
       "        4554500.        ,   287045.95238095,  2238880.95238095,\n",
       "        1510081.66666667,  1577773.26839827, 14624500.        ,\n",
       "        1358980.87537463,   486250.        ,  2372911.32905248,\n",
       "        1163661.18925831,  4500000.        ,  1820000.        ,\n",
       "         984338.33333333,   356240.        ,  1163661.18925831,\n",
       "         462731.37254902,  1138218.27505828,   358741.82900433,\n",
       "        2372911.32905248,  3203835.7997558 ,   400169.64285714,\n",
       "         544834.04078241,   765000.        ,  6810000.        ,\n",
       "         421340.41260013,   704707.85714286,   747053.49206349,\n",
       "         652000.        ,   176846.68803419,   949856.19047619,\n",
       "         269500.        ,  1399148.33786075,   876567.05322129,\n",
       "         369750.        ,   589875.        ,   470000.        ,\n",
       "        1188707.34265734,   505347.09055944,   790833.33333333,\n",
       "        2099333.33333333,   347880.15873016,  4648500.        ,\n",
       "        1350000.        ,   409470.83333333,  3749500.        ,\n",
       "         245114.5751634 ,  1743791.3960114 ,  2507226.66666667,\n",
       "         425800.        ,   212820.84210526,  1555461.47081534,\n",
       "       28949000.        ,   458500.        ,   534833.33333333,\n",
       "        2241623.01587302,   629420.83333333,  1138000.        ,\n",
       "        1419586.80554344,   501666.66666667,   861434.41790371,\n",
       "         876567.05322129,   420833.33333333,   861434.41790371,\n",
       "        1419586.80554344,   130334.13809524,   369550.        ,\n",
       "        1706313.56837607,   275314.10561661, 10750000.        ,\n",
       "        4469166.66666667,   526745.67418484,   460906.71310171,\n",
       "         301948.71031746,   146759.95970696,   300341.66666667,\n",
       "         650178.11993218,  1529972.02797203,  1163661.18925831,\n",
       "         542672.04352901,   458533.33333333,  4800000.        ,\n",
       "         586842.98831071,   992666.66666667,  1310500.        ,\n",
       "         566250.        ,   573516.66666667,  1733000.        ,\n",
       "        1055487.5       ,  2673083.33333333,   617215.23809524,\n",
       "        3536190.47619048,  2752214.28571429,   600000.        ,\n",
       "         304677.77777778,   899257.70308123,   186168.33333333,\n",
       "         455500.        ,   871475.        ,  2372911.32905248,\n",
       "         739576.66666667,  2850825.        ,   133133.33333333,\n",
       "        1100000.        ,   462731.37254902,   467050.        ,\n",
       "          97191.03174603,   586842.98831071,   415886.84210526,\n",
       "        2372911.32905248,  2835913.33333333,   763427.47916667,\n",
       "         133855.        ,  1590962.05877456,  5010714.28571429,\n",
       "         651070.77922078,   221930.30165014,  1535000.        ,\n",
       "         765000.        ,   739000.        ,   704707.85714286,\n",
       "         765000.        ,   582633.33333333,   319520.23809524,\n",
       "         250475.98845599,  2770500.        ,  2715500.        ,\n",
       "         502964.28571429,   193649.14285714,   544834.04078241,\n",
       "        2233654.76190476,  1271395.66666667,  1694426.2931216 ,\n",
       "        1696485.71428571,  2372911.32905248,   858196.62975913,\n",
       "        1043651.17296919,  5010714.28571429,  1104000.        ,\n",
       "         775573.38494838,   858196.62975913,  2372911.32905248,\n",
       "        2824042.14285714,  1527600.        ,  2824042.14285714,\n",
       "        1150000.        ,   275314.10561661,  2147488.0952381 ,\n",
       "        2791666.66666667,  2205500.        ,  3749500.        ,\n",
       "         253750.        ,   354911.40420714,  1074225.        ,\n",
       "         495000.        ,   290875.        ,  1946078.57142857,\n",
       "         803333.33333333,  5509500.        ,   454400.95238095,\n",
       "        1423682.44949495,  1802483.33333333,   564150.        ,\n",
       "         221930.30165014,  5780638.65995116,  2372911.32905248,\n",
       "        1510081.66666667,   321100.08484163,   726789.97113997,\n",
       "        1884190.47619048,  1779465.27777778,   161133.33333333,\n",
       "        1419586.80554344,   369550.        ,   176846.68803419,\n",
       "         577465.47619048,  1652450.        ,  2578623.62637363,\n",
       "        1090980.86038961,  3199500.        ,  2372911.32905248,\n",
       "        1328416.07142857,  3790000.        ,   357292.6984127 ,\n",
       "         160667.65151515,   758000.        ,    66323.80952381,\n",
       "         652000.        ,  1555461.47081534,   176846.68803419,\n",
       "         829550.        ,   287045.95238095,  1831969.46386946,\n",
       "         415444.39872627,  2372911.32905248,  1225219.81848224,\n",
       "         517187.5       ,  1188838.33333333,  1599708.33333333,\n",
       "        1615619.52214452,  1225219.81848224,   570629.98847926,\n",
       "        1590962.05877456,   412575.35714286,   887214.28571429,\n",
       "        1713344.09090909,   236466.66666667,   544834.04078241,\n",
       "         544834.04078241,  1419586.80554344,   586842.98831071,\n",
       "         829550.        ,   334000.        ,    97191.03174603,\n",
       "         544834.04078241,   840238.12853813,  2372911.32905248,\n",
       "         542672.04352901,  1419586.80554344,   240302.97876463,\n",
       "         430288.07886558,   176846.68803419,   652000.        ,\n",
       "        2372911.32905248,  1020310.71428571,   430202.53318903,\n",
       "         267998.2034632 ,   542407.14285714,  1291964.28571429,\n",
       "        1106000.        ,   542672.04352901,   706370.23532024,\n",
       "        4120000.        ,  2372911.32905248,  1680273.80952381,\n",
       "        1968600.        ,   133855.        ,  2372911.32905248,\n",
       "         765000.        ,   650178.11993218,  2314807.14285714,\n",
       "         504259.72222222,   321100.08484163,   460906.71310171,\n",
       "         788159.75      ,  2372911.32905248,   622171.19047619,\n",
       "         164000.        ,  2372911.32905248,   472765.66666667,\n",
       "         275314.10561661,   719679.75912976,  1731250.        ,\n",
       "         544834.04078241,  2733800.        ,   326826.06944444,\n",
       "        3894575.        ,  1699625.        ,   501666.66666667,\n",
       "        1903322.51082251,  1198205.70488722,   194000.        ,\n",
       "        4626226.        ,  1225219.81848224,   495000.        ,\n",
       "        1071175.        ,   739000.        ,   301681.15079365,\n",
       "         871068.49261849,   405893.35785062,   996380.3030303 ,\n",
       "         582633.33333333,  2631700.        ,   570629.98847926,\n",
       "         274844.76468254,   301948.71031746,   586842.98831071,\n",
       "        1198205.70488722,   977750.        ,  1126150.        ,\n",
       "          59000.        ,  1419586.80554344,  1198205.70488722,\n",
       "         348413.33333333,  1652450.        ,   562700.        ,\n",
       "         423083.33333333,   424601.46825397,   288725.83333333,\n",
       "         939312.42742552,   542672.04352901,   472765.66666667,\n",
       "        1967500.        ,  1399148.33786075,   949856.19047619,\n",
       "        2372911.32905248,   482996.11111111,  2673041.66666667,\n",
       "         977750.        ,  2950000.        ,   671992.54658577,\n",
       "        2905000.        ,  1159100.        ,  2372911.32905248,\n",
       "        1163661.18925831,   732500.        ,  2372911.32905248,\n",
       "         617215.23809524,  2700000.        ,  2667376.19047619,\n",
       "        2895000.        ,  1820000.        ,   623675.        ,\n",
       "        1245000.        ,   822988.0952381 ,  2205500.        ,\n",
       "         861434.41790371,  1037137.5       ,   209015.87815957,\n",
       "        9847000.        ,   533308.33333333,   312923.18802521,\n",
       "        1400000.        ,   650178.11993218,  1362480.76923077,\n",
       "         570629.98847926,  1957300.        ,   405893.35785062,\n",
       "        1543900.        ,  1310696.96969697,  2372911.32905248,\n",
       "         100940.18525334,  2778689.28571429,  2360000.        ,\n",
       "        1714326.        ,   746648.80952381,  1549250.        ,\n",
       "         436701.10733384,  1590962.05877456,  1423682.44949495,\n",
       "         861434.41790371,   791876.19047619,  2372911.32905248,\n",
       "         247200.        ,   425082.08333333,  4005000.        ,\n",
       "         550405.        ,  2326700.        ,   247200.        ,\n",
       "        1779465.27777778,  2372911.32905248,  1419586.80554344,\n",
       "         903200.        ,   704707.85714286,   899257.70308123,\n",
       "         368000.        ,  4500000.        ,  1998437.5       ,\n",
       "        1432194.19372294,  3203835.7997558 ,   571433.33333333,\n",
       "         586355.00541126,   514650.        ,   671992.54658577,\n",
       "        1460300.        ,  1173000.        ,   460906.71310171,\n",
       "         186075.        ,   495000.        ,  3749500.        ,\n",
       "        1089100.        ,   405893.35785062,  2755000.        ,\n",
       "        3585500.        ,   486250.        ,   570629.98847926,\n",
       "        1432194.19372294,  2241623.01587302,    56000.        ,\n",
       "        3875000.        ,   405893.35785062,   858196.62975913,\n",
       "         276366.66666667,  1659750.        ,  1511900.        ,\n",
       "        1419586.80554344,   429197.14285714,   330196.5       ,\n",
       "         330196.5       ,   324983.33333333,   447255.60019882,\n",
       "         892502.73809524,  1802483.33333333,   124233.33333333,\n",
       "         139531.90909091,   209015.87815957,   803333.33333333,\n",
       "         505347.09055944,  2372911.32905248,  7428120.8       ,\n",
       "         465500.        ,  1460300.        ,  5500000.        ,\n",
       "         394500.        ,   131418.88888889,  1419586.80554344,\n",
       "        6074551.15995116,   270000.        ,  3640000.        ,\n",
       "         570629.98847926,  2372911.32905248,   641250.        ,\n",
       "         279950.        ,  2905000.        ,  1694426.2931216 ,\n",
       "         858196.62975913,   319520.23809524,   993333.33333333,\n",
       "         873200.        ,  1017825.38156288,   999000.        ,\n",
       "         568740.47619048])"
      ]
     },
     "execution_count": 23,
     "metadata": {},
     "output_type": "execute_result"
    }
   ],
   "source": [
    "r_forest_predictions = rforest_regressor.predict(x_test)\n",
    "r_forest_predictions"
   ]
  },
  {
   "cell_type": "code",
   "execution_count": 24,
   "metadata": {},
   "outputs": [
    {
     "name": "stdout",
     "output_type": "stream",
     "text": [
      "Mean absolute error: 796943.20\n",
      "Mean squared error: 4377375530192.54\n",
      "Variance score: 0.05\n"
     ]
    }
   ],
   "source": [
    "print(\"Mean absolute error: %.2f\"% mean_absolute_error(y_test, r_forest_predictions))\n",
    "print(\"Mean squared error: %.2f\"% mean_squared_error(y_test, r_forest_predictions))\n",
    "print('Variance score: %.2f' % r2_score(y_test, r_forest_predictions))"
   ]
  },
  {
   "cell_type": "code",
   "execution_count": null,
   "metadata": {},
   "outputs": [],
   "source": []
  }
 ],
 "metadata": {
  "colab": {
   "collapsed_sections": [],
   "name": "Armando Cuevas_CasafariTest_ProductDataScientist.ipynb",
   "provenance": [],
   "toc_visible": true,
   "version": "0.3.2"
  },
  "kernelspec": {
   "display_name": "Python 3",
   "language": "python",
   "name": "python3"
  },
  "language_info": {
   "codemirror_mode": {
    "name": "ipython",
    "version": 3
   },
   "file_extension": ".py",
   "mimetype": "text/x-python",
   "name": "python",
   "nbconvert_exporter": "python",
   "pygments_lexer": "ipython3",
   "version": "3.7.2"
  }
 },
 "nbformat": 4,
 "nbformat_minor": 2
}
