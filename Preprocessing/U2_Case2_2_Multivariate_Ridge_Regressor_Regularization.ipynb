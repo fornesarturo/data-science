{
 "cells": [
  {
   "cell_type": "markdown",
   "metadata": {},
   "source": [
    "When we have more than one attribute (independent variables), traditional linear regression could get overfitted or biased: $y=a_0x_0 + a_1x_1+...+a_nx_n +b$"
   ]
  },
  {
   "cell_type": "markdown",
   "metadata": {},
   "source": [
    "To avoid this, we can use Ridge Regression which is a technique that uses a penalty term on the cost function to reduce over-fitting."
   ]
  },
  {
   "cell_type": "code",
   "execution_count": 1,
   "metadata": {},
   "outputs": [],
   "source": [
    "#Tarea Investigar que es overfitting y under-fitting (ya está en schoology)"
   ]
  },
  {
   "cell_type": "markdown",
   "metadata": {},
   "source": [
    "#### Download the data"
   ]
  },
  {
   "cell_type": "code",
   "execution_count": 2,
   "metadata": {},
   "outputs": [],
   "source": [
    "import numpy as np\n",
    "import pandas as pd\n",
    "\n",
    "# Importing the dataset\n",
    "dataset = pd.read_csv('data_multivar.txt', header = None)"
   ]
  },
  {
   "cell_type": "code",
   "execution_count": 3,
   "metadata": {},
   "outputs": [
    {
     "data": {
      "text/html": [
       "<div>\n",
       "<style scoped>\n",
       "    .dataframe tbody tr th:only-of-type {\n",
       "        vertical-align: middle;\n",
       "    }\n",
       "\n",
       "    .dataframe tbody tr th {\n",
       "        vertical-align: top;\n",
       "    }\n",
       "\n",
       "    .dataframe thead th {\n",
       "        text-align: right;\n",
       "    }\n",
       "</style>\n",
       "<table border=\"1\" class=\"dataframe\">\n",
       "  <thead>\n",
       "    <tr style=\"text-align: right;\">\n",
       "      <th></th>\n",
       "      <th>0</th>\n",
       "      <th>1</th>\n",
       "      <th>2</th>\n",
       "      <th>3</th>\n",
       "    </tr>\n",
       "  </thead>\n",
       "  <tbody>\n",
       "    <tr>\n",
       "      <th>0</th>\n",
       "      <td>0.39</td>\n",
       "      <td>2.78</td>\n",
       "      <td>7.11</td>\n",
       "      <td>-8.07</td>\n",
       "    </tr>\n",
       "    <tr>\n",
       "      <th>1</th>\n",
       "      <td>1.65</td>\n",
       "      <td>6.70</td>\n",
       "      <td>2.42</td>\n",
       "      <td>12.24</td>\n",
       "    </tr>\n",
       "    <tr>\n",
       "      <th>2</th>\n",
       "      <td>5.67</td>\n",
       "      <td>6.38</td>\n",
       "      <td>3.79</td>\n",
       "      <td>23.96</td>\n",
       "    </tr>\n",
       "    <tr>\n",
       "      <th>3</th>\n",
       "      <td>2.31</td>\n",
       "      <td>6.27</td>\n",
       "      <td>4.80</td>\n",
       "      <td>4.29</td>\n",
       "    </tr>\n",
       "    <tr>\n",
       "      <th>4</th>\n",
       "      <td>3.67</td>\n",
       "      <td>6.67</td>\n",
       "      <td>2.38</td>\n",
       "      <td>16.37</td>\n",
       "    </tr>\n",
       "  </tbody>\n",
       "</table>\n",
       "</div>"
      ],
      "text/plain": [
       "      0     1     2      3\n",
       "0  0.39  2.78  7.11  -8.07\n",
       "1  1.65  6.70  2.42  12.24\n",
       "2  5.67  6.38  3.79  23.96\n",
       "3  2.31  6.27  4.80   4.29\n",
       "4  3.67  6.67  2.38  16.37"
      ]
     },
     "execution_count": 3,
     "metadata": {},
     "output_type": "execute_result"
    }
   ],
   "source": [
    "dataset.head() # Now we have three attributes"
   ]
  },
  {
   "cell_type": "markdown",
   "metadata": {},
   "source": [
    "#### Separate attributes (inputs) and labels (outputs) in X and y variables"
   ]
  },
  {
   "cell_type": "code",
   "execution_count": 7,
   "metadata": {},
   "outputs": [],
   "source": [
    "X = dataset.iloc[:, :-1].values  # para que nos de un vector 2D y no un array 1D\n",
    "                                # (por esa razon no es X = dataset.iloc[:, 0].values)\n",
    "y = dataset.iloc[:, 3].values\n"
   ]
  },
  {
   "cell_type": "markdown",
   "metadata": {},
   "source": [
    "#### Split the data into training data and test data  (80/20)"
   ]
  },
  {
   "cell_type": "code",
   "execution_count": 12,
   "metadata": {},
   "outputs": [],
   "source": [
    "# Splitting the dataset into the Training set and Test set\n",
    "from sklearn.model_selection  import train_test_split\n",
    "X_train, X_test, y_train, y_test = train_test_split(X, y, test_size = 0.2, random_state = 0)"
   ]
  },
  {
   "cell_type": "markdown",
   "metadata": {},
   "source": [
    "#### Create Linear and Ridge Regressor"
   ]
  },
  {
   "cell_type": "code",
   "execution_count": 80,
   "metadata": {},
   "outputs": [],
   "source": [
    "\n",
    "# Create linear regression object\n",
    "from sklearn import linear_model\n",
    "\n",
    "linear_regressor = linear_model.LinearRegression()\n",
    "ridge_regressor = linear_model.Ridge(alpha=.02, fit_intercept=False, max_iter=10000)\n",
    "\n"
   ]
  },
  {
   "cell_type": "markdown",
   "metadata": {},
   "source": [
    "#### Train the model"
   ]
  },
  {
   "cell_type": "code",
   "execution_count": 81,
   "metadata": {},
   "outputs": [
    {
     "data": {
      "text/plain": [
       "Ridge(alpha=0.02, copy_X=True, fit_intercept=False, max_iter=10000,\n",
       "   normalize=False, random_state=None, solver='auto', tol=0.001)"
      ]
     },
     "execution_count": 81,
     "metadata": {},
     "output_type": "execute_result"
    }
   ],
   "source": [
    "# Train the model using the training sets\n",
    "linear_regressor.fit(X_train, y_train)\n",
    "ridge_regressor.fit(X_train, y_train)\n",
    "\n"
   ]
  },
  {
   "cell_type": "markdown",
   "metadata": {},
   "source": [
    "#### Predict the output"
   ]
  },
  {
   "cell_type": "code",
   "execution_count": 82,
   "metadata": {},
   "outputs": [],
   "source": [
    "# Predict the output\n",
    "y_test_pred = linear_regressor.predict(X_test)\n",
    "y_test_pred_ridge = ridge_regressor.predict(X_test)\n",
    "\n"
   ]
  },
  {
   "cell_type": "markdown",
   "metadata": {},
   "source": [
    "#### Measure Performance"
   ]
  },
  {
   "cell_type": "code",
   "execution_count": 83,
   "metadata": {},
   "outputs": [
    {
     "name": "stdout",
     "output_type": "stream",
     "text": [
      "LINEAR:\n",
      "Mean absolute error = 3.42\n",
      "Mean squared error = 16.83\n",
      "Median absolute error = 3.18\n",
      "Explained variance score = 0.87\n",
      "R2 score = 0.87\n",
      "\n",
      "RIDGE:\n",
      "Mean absolute error = 3.48\n",
      "Mean squared error = 17.09\n",
      "Median absolute error = 3.31\n",
      "Explained variance score = 0.86\n",
      "R2 score = 0.86\n"
     ]
    }
   ],
   "source": [
    "# Measure performance\n",
    "import sklearn.metrics as sm\n",
    "\n",
    "print('LINEAR:')\n",
    "print('Mean absolute error =', round(sm.mean_absolute_error(y_test, y_test_pred), 2))\n",
    "print('Mean squared error =', round(sm.mean_squared_error(y_test, y_test_pred), 2))\n",
    "print('Median absolute error =', round(sm.median_absolute_error(y_test, y_test_pred), 2))\n",
    "print('Explained variance score =', round(sm.explained_variance_score(y_test, y_test_pred), 2))\n",
    "print('R2 score =', round(sm.r2_score(y_test, y_test_pred), 2))\n",
    "\n",
    "print('\\nRIDGE:')\n",
    "print('Mean absolute error =', round(sm.mean_absolute_error(y_test, y_test_pred_ridge), 2))\n",
    "print('Mean squared error =', round(sm.mean_squared_error(y_test, y_test_pred_ridge), 2))\n",
    "print('Median absolute error =', round(sm.median_absolute_error(y_test, y_test_pred_ridge), 2))\n",
    "print('Explained variance score =', round(sm.explained_variance_score(y_test, y_test_pred_ridge), 2))\n",
    "print('R2 score =', round(sm.r2_score(y_test, y_test_pred_ridge), 2))\n",
    "\n",
    "\n",
    "\n",
    "\n",
    "\n",
    "\n",
    "\n",
    "\n"
   ]
  },
  {
   "cell_type": "code",
   "execution_count": null,
   "metadata": {},
   "outputs": [],
   "source": []
  },
  {
   "cell_type": "code",
   "execution_count": null,
   "metadata": {},
   "outputs": [],
   "source": []
  }
 ],
 "metadata": {
  "kernelspec": {
   "display_name": "Python 3",
   "language": "python",
   "name": "python3"
  },
  "language_info": {
   "codemirror_mode": {
    "name": "ipython",
    "version": 3
   },
   "file_extension": ".py",
   "mimetype": "text/x-python",
   "name": "python",
   "nbconvert_exporter": "python",
   "pygments_lexer": "ipython3",
   "version": "3.7.2"
  }
 },
 "nbformat": 4,
 "nbformat_minor": 2
}
